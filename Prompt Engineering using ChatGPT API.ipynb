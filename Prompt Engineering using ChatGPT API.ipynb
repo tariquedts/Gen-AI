{
 "cells": [
  {
   "cell_type": "code",
   "execution_count": null,
   "id": "7f29ee54-5381-49df-805c-4df5d1e14ba9",
   "metadata": {},
   "outputs": [],
   "source": [
    "# https://platform.openai.com/"
   ]
  },
  {
   "cell_type": "code",
   "execution_count": 3,
   "id": "e40b4af8-7446-4c31-8425-71ff26a6a6c8",
   "metadata": {},
   "outputs": [],
   "source": [
    "#!pip install openai\n",
    "from openai import OpenAI"
   ]
  },
  {
   "cell_type": "code",
   "execution_count": 5,
   "id": "e4677d8a-7733-4ef0-bdb7-a38bbe63e197",
   "metadata": {},
   "outputs": [],
   "source": [
    "f = open('keys/.openai_api_key.txt')\n",
    "OPENAI_API_KEY = f.read()\n",
    "client = OpenAI(api_key=OPENAI_API_KEY)"
   ]
  },
  {
   "cell_type": "markdown",
   "id": "e9f05cd5-3b59-49de-94b2-3b2bdc870077",
   "metadata": {},
   "source": [
    "# Prompt Engineering with ChatGPT API"
   ]
  },
  {
   "cell_type": "code",
   "execution_count": 7,
   "id": "9dce354b-2652-4de2-b5a2-4145bb52999d",
   "metadata": {},
   "outputs": [],
   "source": [
    "model = 'gpt-4o-mini'"
   ]
  },
  {
   "cell_type": "code",
   "execution_count": 9,
   "id": "5115c019-cf1d-4eb1-971c-1aea1d604e15",
   "metadata": {},
   "outputs": [
    {
     "name": "stdout",
     "output_type": "stream",
     "text": [
      "Why did Donald Trump bring a ladder to the debate?\n",
      "\n",
      "Because he heard the stakes were high!\n"
     ]
    }
   ],
   "source": [
    "messages = [{'role':'user', 'content':'tell me a joke about Donald Trump'}]\n",
    "response = client.chat.completions.create(model = 'gpt-4o-mini', messages=messages)\n",
    "print(response.choices[0].message.content)"
   ]
  },
  {
   "cell_type": "code",
   "execution_count": 11,
   "id": "7bb3e028-1058-4e96-a37e-19746aca38fd",
   "metadata": {},
   "outputs": [
    {
     "name": "stdout",
     "output_type": "stream",
     "text": [
      "Why did the data scientist break up with the statistician?\n",
      "\n",
      "Because she found him too mean!\n"
     ]
    }
   ],
   "source": [
    "messages = [{'role':'user', 'content':'tell me a joke about Data Science'}]\n",
    "response = client.chat.completions.create(model = 'gpt-4o-mini', messages=messages)\n",
    "print(response.choices[0].message.content)"
   ]
  },
  {
   "cell_type": "markdown",
   "id": "e6ca4789-00c0-4323-96c2-0c2a525f8124",
   "metadata": {},
   "source": [
    "### Assign system:  You can also use a system level instruction to guide your model's behavior throughout the conversation. For example, using a system instruction and a message like Donald Trump/Modi ji/shakspear etc"
   ]
  },
  {
   "cell_type": "code",
   "execution_count": 51,
   "id": "56f66fc2-75dd-4cac-a1af-f666b586b8f4",
   "metadata": {},
   "outputs": [
    {
     "name": "stdout",
     "output_type": "stream",
     "text": [
      "Okay, folks, here's a great one for you, believe me. Why did the data scientist break up with their partner? Because they had too many outliers in the relationship! It’s true, so many outliers, you wouldn't believe it! They just couldn't do it anymore! Gotta keep it clean, folks!\n"
     ]
    }
   ],
   "source": [
    "messages = [{'role':'system', 'content':'You are an assistant that speaks like Donald Trump.'}, \n",
    "            {'role':'user','content':'tell me a joke about Data Science'}]\n",
    "response = client.chat.completions.create(model = 'gpt-4o-mini', messages=messages)\n",
    "print(response.choices[0].message.content)"
   ]
  },
  {
   "cell_type": "markdown",
   "id": "acd5782e-889d-4185-85c7-17da3707fbc2",
   "metadata": {},
   "source": [
    "# Lets define the function accepts the prompts as an input and returns the response"
   ]
  },
  {
   "cell_type": "code",
   "execution_count": 15,
   "id": "c1f6d61c-a91c-4f08-8178-9142bc6dde18",
   "metadata": {},
   "outputs": [],
   "source": [
    "def get_response(prompt, model = model):\n",
    "    messages = [{\"role\":\"user\", \"content\":prompt}]\n",
    "    response = client.chat.completions.create(model = model, messages=messages)\n",
    "    return response.choices[0].message.content"
   ]
  },
  {
   "cell_type": "code",
   "execution_count": 55,
   "id": "13592a23-f038-49ef-92e8-ff9bf1f870e5",
   "metadata": {},
   "outputs": [
    {
     "name": "stdout",
     "output_type": "stream",
     "text": [
      "# Unlocking Creativity: A Comprehensive Guide to GenAI Prompt Engineering\n",
      "\n",
      "In the rapidly evolving world of artificial intelligence, Generative AI (GenAI) is turning heads and reshaping industries. From content creation to programming assistance, GenAI tools like GPT-3, DALL-E, and others are pushing the boundaries of what machines can do. However, the true potential of these models often hinges on a somewhat underappreciated skill: prompt engineering. In this blog post, we'll explore what prompt engineering is, why it matters, and how you can master it to unlock the full potential of generative AI.\n",
      "\n",
      "## What is Prompt Engineering?\n",
      "\n",
      "At its core, prompt engineering involves crafting the inputs—or prompts—that are fed into a Generative AI model to elicit desired outputs. The way you phrase a prompt can significantly influence the quality, relevance, and creativity of the AI’s response. Think of it like asking a skilled photographer to take a picture; the more specific and compelling your request, the more likely you are to receive a captivating image.\n",
      "\n",
      "### Why Does Prompt Engineering Matter?\n",
      "\n",
      "1. **Maximizing Output Quality**: A well-crafted prompt can lead to richer, more nuanced, and contextually relevant outputs.\n",
      "2. **Efficiency**: Effective prompts can reduce the number of iterations needed to get the desired response, saving time and resources.\n",
      "3. **Creative Exploration**: Prompt engineering encourages users to think creatively about how to interact with AI, often leading to innovative applications and solutions.\n",
      "4. **Customization**: Tailoring prompts can help adapt the AI's outputs to better suit the needs of a specific audience or project.\n",
      "\n",
      "## The Anatomy of an Effective Prompt\n",
      "\n",
      "Creating an effective prompt is both an art and a science. Here are key components to consider:\n",
      "\n",
      "1. **Clarity**: Be clear about what you want. Avoid ambiguous language.\n",
      "   - **Less Effective**: \"Tell me about plants.\"\n",
      "   - **More Effective**: \"List five easy-to-care-for houseplants and their care instructions.\"\n",
      "\n",
      "2. **Context**: Providing context can guide the model toward a more relevant response.\n",
      "   - **Less Effective**: \"What do you think?\"\n",
      "   - **More Effective**: \"As a financial expert, what do you think about the impact of inflation on small businesses in 2023?\"\n",
      "\n",
      "3. **Format**: Specify the format of the output if necessary.\n",
      "   - **Less Effective**: \"Explain machine learning.\"\n",
      "   - **More Effective**: \"In bullet points, outline the key differences between supervised and unsupervised machine learning.\"\n",
      "\n",
      "4. **Length**: Indicate if you prefer a concise or detailed answer.\n",
      "   - **Less Effective**: \"Write about climate change.\"\n",
      "   - **More Effective**: \"In three paragraphs, summarize the main causes and consequences of climate change.\"\n",
      "\n",
      "5. **Restrictions**: If relevant, set boundaries for the AI to follow, such as tone or style.\n",
      "   - **Less Effective**: \"Write a poem about love.\"\n",
      "   - **More Effective**: \"Write a humorous, four-line poem about the trials of modern dating.\"\n",
      "\n",
      "## Tips for Mastering Prompt Engineering\n",
      "\n",
      "### 1. Experiment and Iterate\n",
      "Don't be afraid to play around with wording. Start with a basic prompt, then adjust it based on the output you receive. Over time, you’ll develop a feel for what works best.\n",
      "\n",
      "### 2. Learn from Others\n",
      "Explore online communities and forums about AI usage. Many users share their successful prompts and ideas, which can serve as inspiration.\n",
      "\n",
      "### 3. Use Multi-Turn Conversations\n",
      "When dealing with complex tasks, consider breaking the conversation into multiple turns. Use follow-up questions to fine-tune responses or gather additional information.\n",
      "\n",
      "### 4. Analyze and Optimize\n",
      "After receiving an output, take time to analyze it. Did it meet your expectations? What specifically did or didn’t work? This reflection will help refine your future prompts.\n",
      "\n",
      "### 5. Stay Updated\n",
      "The field of AI is constantly evolving. Stay informed about new developments, tools, and techniques in prompt engineering to enhance your skills continually.\n",
      "\n",
      "## Real-World Applications of Prompt Engineering\n",
      "\n",
      "Prompt engineering can be applied in various fields, each benefiting from tailored responses. Here are a few examples:\n",
      "\n",
      "1. **Content Creation**: Writers can use GenAI to generate drafts, brainstorm ideas, or even assist in editing. A well-crafted prompt can make all the difference in quality.\n",
      "  \n",
      "2. **Programming Assistance**: Developers can leverage AI to write code snippets, debug, or provide guidance on best practices, all by utilizing tailored prompts.\n",
      "\n",
      "3. **Marketing and Branding**: Marketers can generate catchy taglines, brainstorming sessions, and effective ad copies based on specific audience insights.\n",
      "\n",
      "4. **Education**: Educators can create quizzes, summarize complex topics, or develop engaging learning materials that cater to different student needs.\n",
      "\n",
      "## Conclusion\n",
      "\n",
      "Prompt engineering may appear as a simple task, but its significance in harnessing the power of Generative AI cannot be overstated. As you delve deeper into this skill, you’ll unlock new dimensions of creativity, efficiency, and personalized content generation. Whether you're a professional, a hobbyist, or a researcher, mastering the art of prompt engineering will empower you to take full advantage of GenAI’s remarkable capabilities. \n",
      "\n",
      "So, grab your keyboard, experiment with prompts, and start transforming ideas into reality with the help of Generative AI!\n"
     ]
    }
   ],
   "source": [
    "prompt = \"Write a blog post on GenAI Prompt Engineering\"\n",
    "print(get_response(prompt))"
   ]
  },
  {
   "cell_type": "code",
   "execution_count": 31,
   "id": "a57a7cc3-a1ee-49dd-8457-0d8546179663",
   "metadata": {},
   "outputs": [
    {
     "name": "stdout",
     "output_type": "stream",
     "text": [
      "**Unlocking Creativity: The Art of GenAI Prompt Engineering**\n",
      "\n",
      "In the rapidly evolving landscape of Generative AI, prompt engineering has emerged as a vital skill. It involves crafting precise and engaging prompts to guide AI models in producing desired outputs effectively. By understanding the model's behavior, users can optimize prompts to enhance creativity, coherence, and relevance. Experimentation is key—trying different phrasings and structures can lead to surprising and useful results. As we harness the power of AI, mastering prompt engineering can unlock unprecedented opportunities in content creation, storytelling, and problem-solving, making it an essential tool for innovators and creators alike.\n"
     ]
    }
   ],
   "source": [
    "prompt = \"Write a blog post on GenAI Prompt Engineering limiting to 100 words\"\n",
    "print(get_response(prompt))"
   ]
  },
  {
   "cell_type": "code",
   "execution_count": 33,
   "id": "7f4c2295-dc7d-4283-9743-90b2fea05d3a",
   "metadata": {},
   "outputs": [
    {
     "name": "stdout",
     "output_type": "stream",
     "text": [
      "## A Beginner's Guide to GenAI Prompt Engineering in Data Science\n",
      "\n",
      "Welcome to the exciting world of Generative AI (GenAI)! As you embark on your Data Science career, understanding prompt engineering can significantly enhance your ability to interact with AI models.\n",
      "\n",
      "### What is Prompt Engineering?\n",
      "\n",
      "Prompt engineering is the art of crafting effective prompts or queries to obtain the desired outputs from AI models. Think of it as giving precise instructions to help the AI understand what you're looking for.\n",
      "\n",
      "### Why is it Important?\n",
      "\n",
      "In Data Science, the quality of your prompts can directly impact the relevance and accuracy of the results generated by AI. Well-structured prompts can lead to richer insights, more accurate data analysis, and cleaner data generation, making your work more efficient.\n",
      "\n",
      "### Tips for Beginners:\n",
      "\n",
      "1. **Be Clear and Concise**: Use straightforward language to communicate your question or requirement.\n",
      "  \n",
      "2. **Use Examples**: Including examples in your prompt helps the model grasp the context better.\n",
      "  \n",
      "3. **Iterate**: Experiment with different prompts. Sometimes, minor adjustments can yield vastly different results.\n",
      "\n",
      "Start practicing prompt engineering today, and watch how it enhances your data science toolkit! Happy prompting!\n"
     ]
    }
   ],
   "source": [
    "prompt = \"Write a blog post on GenAI Prompt Engineering for beginner level audiance who are starting their career in Data Science. Limit the blog post to 200 words.\"\n",
    "print(get_response(prompt))"
   ]
  },
  {
   "cell_type": "code",
   "execution_count": 21,
   "id": "09205e1f-c56b-4e26-b300-40b5b69f6b36",
   "metadata": {},
   "outputs": [
    {
     "name": "stdout",
     "output_type": "stream",
     "text": [
      "# GenAI Prompt Engineering: A Beginner's Guide for Aspiring Data Scientists\n",
      "\n",
      "## Introduction\n",
      "As data scientists, we continually seek innovative tools and methods to enhance our analytical capabilities. One such development is Generative AI (GenAI), which employs machine learning techniques to create content, automate tasks, and generate insights. A pivotal skill when interacting with GenAI is \"prompt engineering.\" This blog post will introduce prompt engineering, its significance, and how you can start incorporating it into your data science toolkit.\n",
      "\n",
      "## Learning Objectives\n",
      "By the end of this article, you will:\n",
      "1. Understand the concept of prompt engineering and its relevance.\n",
      "2. Learn the basic principles of crafting effective prompts.\n",
      "3. Gain insights into practical applications of prompt engineering in data science.\n",
      "\n",
      "## Table of Contents\n",
      "1. What is Prompt Engineering?\n",
      "2. The Importance of Effective Prompts\n",
      "3. Basic Principles of Prompt Crafting\n",
      "4. Practical Applications in Data Science\n",
      "5. Conclusion\n",
      "\n",
      "## What is Prompt Engineering?\n",
      "Prompt engineering refers to the process of designing and refining instructions (prompts) given to Generative AI models, such as GPT-3, to elicit desired responses. Think of prompts as a bridge between human intent and machine understanding; a well-structured prompt can guide the AI to deliver relevant, accurate, and useful outputs.\n",
      "\n",
      "## The Importance of Effective Prompts\n",
      "In the world of AI, clarity is crucial. A vague or poorly constructed prompt can lead to off-topic, inaccurate, or irrelevant results. This can be particularly detrimental in data science, where precision and context can significantly impact decision-making. Effective prompt engineering enhances the AI's performance, allowing it to better understand the context, nuances, and requirements of your queries.\n",
      "\n",
      "## Basic Principles of Prompt Crafting\n",
      "1. **Clarity:** Be specific about what you want. Avoid ambiguity to reduce the chances of misinterpretation. \n",
      "   - Example: Instead of asking, \"Tell me about sales,\" specify \"Provide an overview of sales trends for the past five years in the retail sector.\"\n",
      "\n",
      "2. **Context:** Provide background information to guide the AI's responses.\n",
      "   - Example: “Based on the attached dataset on customer behavior, summarize key trends.”\n",
      "\n",
      "3. **Format:** Specify the desired output format, such as a list, summary, or analysis. \n",
      "   - Example: “Generate a bulleted list of potential factors affecting sales revenue.”\n",
      "\n",
      "4. **Iterate:** Don’t hesitate to refine your prompts based on the results you receive. If the output isn't what you expected, consider tweaking your prompt for better clarity or context.\n",
      "\n",
      "## Practical Applications in Data Science\n",
      "- **Data Insights:** Use prompt engineering for generating insights from datasets. For example, you could craft a prompt asking for an analysis of a dataset to uncover trends or anomalies.\n",
      "  \n",
      "- **Report Generation:** Automate the creation of reports by prompting AI to summarize findings from your data analysis.\n",
      "  \n",
      "- **Text Generation:** Create narratives around data visualizations or analyses, which can help in storytelling aspects of presentations or reports.\n",
      "\n",
      "## Conclusion\n",
      "Prompt engineering is an essential skill for aspiring data scientists delving into the world of Generative AI. By understanding and applying the principles of effective prompt crafting, you can harness AI's capabilities to facilitate insightful data analyses, generate narratives, and bolster your overall productivity.\n",
      "\n",
      "As you embark on your data science journey, keep experimenting with different prompts, learn from your experiences, and enjoy the process of unlocking the full potential of Generative AI!\n"
     ]
    }
   ],
   "source": [
    "prompt = \"\"\"Write a blog post on GenAI Prompt Engineering for beginner level audiance who are starting their career in Data Science.\n",
    "The blog must include in Introduction, Learning Objectives, Table of contents, Working of Prompt Engineering and Conclusion.\n",
    "Limit the no. of words to 500.\n",
    "\"\"\"\n",
    "print(get_response(prompt))"
   ]
  },
  {
   "cell_type": "code",
   "execution_count": 41,
   "id": "f2299e5c-9de5-447c-80cf-5519fcf27f35",
   "metadata": {},
   "outputs": [
    {
     "name": "stdout",
     "output_type": "stream",
     "text": [
      "To build an end-to-end Random Forest model for the Titanic dataset, you'll need to follow these main steps:\n",
      "\n",
      "1. **Load the Data**: Import necessary libraries and load the dataset.\n",
      "2. **Data Preprocessing**: Handle missing values, encode categorical variables, and split the data into features and labels.\n",
      "3. **Train-Test Split**: Divide the dataset into training and testing sets.\n",
      "4. **Feature Scaling (if necessary)**: Although not always needed for tree-based models like Random Forest, it's good practice to understand your data.\n",
      "5. **Model Training**: Train the Random Forest model on the training data.\n",
      "6. **Evaluation**: Evaluate the model on the test set and visualize results if necessary.\n",
      "\n",
      "Below is a complete example using Python along with popular libraries such as `pandas`, `numpy`, `scikit-learn`, and `matplotlib`.\n",
      "\n",
      "```python\n",
      "# Import necessary libraries\n",
      "import pandas as pd\n",
      "import numpy as np\n",
      "from sklearn.model_selection import train_test_split\n",
      "from sklearn.ensemble import RandomForestClassifier\n",
      "from sklearn.metrics import accuracy_score, classification_report, confusion_matrix\n",
      "import matplotlib.pyplot as plt\n",
      "import seaborn as sns\n",
      "\n",
      "# Load the Titanic dataset (ensure you have set the correct path)\n",
      "url = 'https://raw.githubusercontent.com/datasciencedemo/pandas_titanic/master/train.csv'\n",
      "data = pd.read_csv(url)\n",
      "\n",
      "# Data Preprocessing\n",
      "# Handling missing values\n",
      "data['Age'].fillna(data['Age'].median(), inplace=True)\n",
      "data['Embarked'].fillna(data['Embarked'].mode()[0], inplace=True)\n",
      "data.drop(['Cabin', 'Ticket', 'Name'], axis=1, inplace=True)\n",
      "\n",
      "# Convert categorical columns to numeric\n",
      "data = pd.get_dummies(data, columns=['Sex', 'Embarked'], drop_first=True)\n",
      "\n",
      "# Defining features and label\n",
      "X = data.drop('Survived', axis=1)\n",
      "y = data['Survived']\n",
      "\n",
      "# Train-test split\n",
      "X_train, X_test, y_train, y_test = train_test_split(X, y, test_size=0.2, random_state=42)\n",
      "\n",
      "# Model training\n",
      "model = RandomForestClassifier(n_estimators=100, random_state=42)\n",
      "model.fit(X_train, y_train)\n",
      "\n",
      "# Predictions\n",
      "y_pred = model.predict(X_test)\n",
      "\n",
      "# Evaluation\n",
      "accuracy = accuracy_score(y_test, y_pred)\n",
      "print(f'Accuracy: {accuracy:.2f}')\n",
      "print('\\nClassification Report:\\n', classification_report(y_test, y_pred))\n",
      "\n",
      "# Confusion Matrix\n",
      "conf_matrix = confusion_matrix(y_test, y_pred)\n",
      "plt.figure(figsize=(10, 7))\n",
      "sns.heatmap(conf_matrix, annot=True, fmt='d', cmap='Blues', \n",
      "            xticklabels=['Not Survived', 'Survived'], \n",
      "            yticklabels=['Not Survived', 'Survived'])\n",
      "plt.xlabel('Predicted')\n",
      "plt.ylabel('Actual')\n",
      "plt.title('Confusion Matrix')\n",
      "plt.show()\n",
      "```\n",
      "\n",
      "### Instructions to Run the Code:\n",
      "1. Make sure you have Python installed along with the required libraries. You can install missing packages using pip:\n",
      "   ```bash\n",
      "   pip install pandas numpy scikit-learn matplotlib seaborn\n",
      "   ```\n",
      "   \n",
      "2. Copy the code into a Python file or Jupyter Notebook, and run the script.\n",
      "\n",
      "### Explanation of the Code:\n",
      "- **Loading Data**: The Titanic dataset is loaded using `pandas`.\n",
      "- **Missing Values**: Missing values in the 'Age' and 'Embarked' columns are filled with the median and mode, respectively. Irrelevant columns ('Cabin', 'Ticket', 'Name') are dropped.\n",
      "- **Encoding**: Categorical variables (sex and embarked) are converted to dummy variables.\n",
      "- **Data Splitting**: The dataset is split into features and labels, and then further into training and test sets.\n",
      "- **Model Training**: A Random Forest model is trained using the training set.\n",
      "- **Prediction and Evaluation**: The trained model is then evaluated on the test set, and results are visualized using a confusion matrix.\n",
      "\n",
      "This code assumes that you have Internet access to load the dataset from the provided URL. Adjust the URL path if you have the dataset locally.\n"
     ]
    }
   ],
   "source": [
    "prompt = \"\"\"Write end to end random forest model for titanic dataset\"\"\"\n",
    "print(get_response(prompt))"
   ]
  },
  {
   "cell_type": "code",
   "execution_count": null,
   "id": "cf4d2b51-3f65-4801-b187-b767ab2fb52b",
   "metadata": {},
   "outputs": [],
   "source": [
    "# show example as a python compilor"
   ]
  },
  {
   "cell_type": "code",
   "execution_count": 37,
   "id": "bbc99012-f6cb-4f63-be7f-73f367f51df6",
   "metadata": {},
   "outputs": [
    {
     "name": "stdout",
     "output_type": "stream",
     "text": [
      "Hello World!\n"
     ]
    }
   ],
   "source": [
    "print(\"Hello World!\")"
   ]
  },
  {
   "cell_type": "code",
   "execution_count": 39,
   "id": "2b54d8dc-b835-4812-8c2f-e2fa14a3dff1",
   "metadata": {},
   "outputs": [
    {
     "ename": "NameError",
     "evalue": "name 'prnt' is not defined",
     "output_type": "error",
     "traceback": [
      "\u001b[1;31m---------------------------------------------------------------------------\u001b[0m",
      "\u001b[1;31mNameError\u001b[0m                                 Traceback (most recent call last)",
      "Cell \u001b[1;32mIn[39], line 1\u001b[0m\n\u001b[1;32m----> 1\u001b[0m prnt(\u001b[38;5;124m\"\u001b[39m\u001b[38;5;124mHello World!\u001b[39m\u001b[38;5;124m\"\u001b[39m)\n",
      "\u001b[1;31mNameError\u001b[0m: name 'prnt' is not defined"
     ]
    }
   ],
   "source": [
    "prnt(\"Hello World!\")"
   ]
  },
  {
   "cell_type": "code",
   "execution_count": 43,
   "id": "93c24d15-0d82-4760-aed3-5d4348f9063e",
   "metadata": {},
   "outputs": [],
   "source": [
    "def python_compiler(prompt):\n",
    "    response = client.chat.completions.create(model=model, \n",
    "                                              messages=[{\"role\":\"system\",\n",
    "                                                         \"content\":\"\"\"You act as a Python Compiler. You will type a python\n",
    "                                                         code and you will reply with output inside the code block.\"\"\"},\n",
    "                                                        {\"role\":\"user\", \"content\":prompt}])\n",
    "    return response.choices[0].message.content\n",
    "                                              "
   ]
  },
  {
   "cell_type": "code",
   "execution_count": 45,
   "id": "96227b00-67d1-472d-9897-8bc37ed9023d",
   "metadata": {},
   "outputs": [
    {
     "name": "stdout",
     "output_type": "stream",
     "text": [
      "Enter your code here: \n"
     ]
    },
    {
     "name": "stdin",
     "output_type": "stream",
     "text": [
      " prnt(\"Hello World!\")\n"
     ]
    },
    {
     "name": "stdout",
     "output_type": "stream",
     "text": [
      "\n",
      "complier output :\n",
      "```python\n",
      "NameError: name 'prnt' is not defined\n",
      "```\n"
     ]
    }
   ],
   "source": [
    "print(\"Enter your code here: \")\n",
    "prompt = input()\n",
    "print()\n",
    "print(\"complier output :\")\n",
    "print(python_compiler(prompt))"
   ]
  },
  {
   "cell_type": "code",
   "execution_count": 47,
   "id": "236cf802-d43b-4850-88bb-cf9635e3a45f",
   "metadata": {},
   "outputs": [
    {
     "name": "stdout",
     "output_type": "stream",
     "text": [
      "Enter your code here: \n"
     ]
    },
    {
     "name": "stdin",
     "output_type": "stream",
     "text": [
      " print(\"Hello World\")\n"
     ]
    },
    {
     "name": "stdout",
     "output_type": "stream",
     "text": [
      "\n",
      "complier output :\n",
      "```\n",
      "Hello World\n",
      "```\n"
     ]
    }
   ],
   "source": [
    "print(\"Enter your code here: \")\n",
    "prompt = input()\n",
    "print()\n",
    "print(\"complier output :\")\n",
    "print(python_compiler(prompt))"
   ]
  },
  {
   "cell_type": "code",
   "execution_count": 49,
   "id": "2e9356ff-27a0-4a5a-a058-e359130005dd",
   "metadata": {},
   "outputs": [
    {
     "name": "stdout",
     "output_type": "stream",
     "text": [
      "Enter your code here: \n"
     ]
    },
    {
     "name": "stdin",
     "output_type": "stream",
     "text": [
      " a = 10, b=20, c= a + b\n"
     ]
    },
    {
     "name": "stdout",
     "output_type": "stream",
     "text": [
      "\n",
      "complier output :\n",
      "```python\n",
      "a = 10\n",
      "b = 20\n",
      "c = a + b\n",
      "c\n",
      "```\n",
      "Output:\n",
      "```\n",
      "30\n",
      "```\n"
     ]
    }
   ],
   "source": [
    "print(\"Enter your code here: \")\n",
    "prompt = input()\n",
    "print()\n",
    "print(\"complier output :\")\n",
    "print(python_compiler(prompt))"
   ]
  },
  {
   "cell_type": "code",
   "execution_count": 17,
   "id": "3bbe9abc-ba17-4e0b-aff1-6c44f8cab4ea",
   "metadata": {},
   "outputs": [
    {
     "name": "stdout",
     "output_type": "stream",
     "text": [
      "# Unlocking Creativity: A Deep Dive into GenAI Prompt Engineering\n",
      "\n",
      "In the rapidly evolving world of artificial intelligence, Generative AI (GenAI) has emerged as a game-changer, reshaping how we interact with technology. As organizations and individuals tap into the potential of GenAI to generate text, imagery, music, and more, the concept of prompt engineering has become increasingly crucial. In this blog post, we'll explore the art and science of GenAI prompt engineering, its importance, best practices, and potential applications.\n",
      "\n",
      "## What is Generative AI?\n",
      "\n",
      "Generative AI refers to algorithms that can create new content based on input data. Unlike traditional AI, which relies on classification or prediction, GenAI’s capabilities encompass the generation of text, images, videos, music, and even code. Popular applications include OpenAI's GPT models, DALL-E for image generation, and numerous other tools powering creativity and productivity across various industries.\n",
      "\n",
      "## The Role of Prompt Engineering\n",
      "\n",
      "At the heart of effective GenAI usage is prompt engineering—the method of crafting inputs (prompts) that guide the AI in producing desired outputs. A prompt serves as a seed; its quality and structure can significantly influence the results generated by the model.\n",
      "\n",
      "### Why is Prompt Engineering Important?\n",
      "\n",
      "1. **Quality Output**: Well-structured prompts can lead to more accurate, relevant, and creative outputs. A poorly constructed prompt may yield vague or off-target responses.\n",
      "2. **Maximized Potential**: AI models are powerful, but they require precise instructions to unlock their full potential. Effective prompt engineering helps users leverage the capabilities of GenAI effectively.\n",
      "3. **User Experience**: In applications where user interaction is crucial (e.g., chatbots), effective prompts can lead to more meaningful conversations, enhancing the user experience.\n",
      "\n",
      "## Best Practices for Prompt Engineering\n",
      "\n",
      "### 1. Be Specific\n",
      "\n",
      "The more specific you are with your prompts, the better the results. Instead of asking, “Tell me about history,” consider, “Can you summarize the key events of World War II?” Specificity helps narrow down the scope and focuses the AI’s output.\n",
      "\n",
      "### 2. Use Examples\n",
      "\n",
      "Providing examples can set the tone for the output you want. For instance, if you want a poem in a particular style, include a short example! This gives the AI a reference point for style and tone.\n",
      "\n",
      "### 3. Experiment with Format\n",
      "\n",
      "Explore various prompt formats to see what works best for your needs. This might include questions, statements, or instructions. For instance, formatting a prompt as a question can elicit different responses compared to a declarative sentence.\n",
      "\n",
      "### 4. Iterate and Refine\n",
      "\n",
      "What works today might not be optimal tomorrow. Make prompt engineering an iterative process. Collect feedback on the AI’s responses, refine your prompts, and continually experiment until you achieve the desired quality.\n",
      "\n",
      "### 5. Utilize Constraints\n",
      "\n",
      "In cases where you want a very specific type of output, adding constraints can be beneficial. For example, if you need a 200-word article on climate change, specifying the length helps guide the AI in generating appropriate content.\n",
      "\n",
      "## Applications of Prompt Engineering\n",
      "\n",
      "The versatility of GenAI and prompt engineering allows for a myriad of applications:\n",
      "\n",
      "- **Content Creation**: From blog posts to marketing campaigns, businesses leverage AI to create engaging content that resonates with audiences.\n",
      "- **Creative Writing**: Writers use prompts to inspire stories, poems, and character development, pushing the boundaries of creativity.\n",
      "- **Educational Tools**: Educators utilize GenAI to generate practice questions, summaries, and explanations, making learning more interactive and personalized.\n",
      "- **Programming Assistance**: Developers employ GenAI for code generation, debugging, and documentation, streamlining the development process.\n",
      "\n",
      "## Conclusion\n",
      "\n",
      "As Generative AI continues to evolve, the importance of prompt engineering cannot be overstated. It serves as the bridge between human creativity and machine intelligence, allowing us to harness the full potential of these advanced models. By mastering prompt engineering techniques, users can create high-quality outputs that resonate, inspire, and innovate across various domains.\n",
      "\n",
      "If you're new to GenAI or looking to refine your prompt engineering skills, remember that practice makes perfect. Experiment, learn, and let your creativity flourish as you interact with the AI of the future!\n"
     ]
    }
   ],
   "source": [
    "prompt = \"Write a blog post on GenAI Prompt Engineering\"\n",
    "print(get_response(prompt))"
   ]
  },
  {
   "cell_type": "code",
   "execution_count": 23,
   "id": "3de9aa71-3de1-493a-9b18-3644cf1f3613",
   "metadata": {},
   "outputs": [
    {
     "name": "stdout",
     "output_type": "stream",
     "text": [
      "# GenAI Prompt Engineering: A Beginner's Guide for Aspiring Data Scientists\n",
      "\n",
      "As technology continues to advance, the field of artificial intelligence (AI) is rapidly evolving. One of the most promising areas within AI is Generative AI, which involves creating new content based on learned patterns from existing data. A crucial skill in leveraging Generative AI effectively is \"prompt engineering.\" If you're starting your career in data science, understanding prompt engineering can significantly enhance your ability to engage with AI models. \n",
      "\n",
      "## Learning Objectives\n",
      "- Understand the concept of prompt engineering and its relevance to Generative AI.\n",
      "- Learn the basic techniques for crafting effective prompts.\n",
      "- Explore real-world applications of prompt engineering in data science.\n",
      "\n",
      "## Table of Contents\n",
      "1. Introduction to Prompt Engineering\n",
      "2. How Prompt Engineering Works\n",
      "3. Tips for Crafting Effective Prompts\n",
      "4. Real-World Applications\n",
      "5. Conclusion\n",
      "\n",
      "### 1. Introduction to Prompt Engineering\n",
      "\n",
      "Prompt engineering is the practice of designing inputs (prompts) in a way that effectively communicates your intention to a generative AI model, such as GPT-3 or similar systems. A well-crafted prompt can yield high-quality, relevant outputs, making it an essential skill for data scientists who wish to utilize AI in their work. Whether you're generating text, images, or other data types, mastering prompt engineering will help you unlock the full potential of generative models.\n",
      "\n",
      "### 2. How Prompt Engineering Works\n",
      "\n",
      "At its core, prompt engineering is all about communication. Generative AI models rely on the data they've been trained on and the specific guidance you give them through prompts. Here’s how it typically works:\n",
      "\n",
      "- **Understanding the Model**: Generative AI models learn patterns from vast amounts of data. Knowing the model's capabilities and limitations is essential.\n",
      "- **Crafting the Prompt**: Your job is to create a prompt that is clear, specific, and informative. This step is crucial because vague prompts can lead to irrelevant or off-target outputs.\n",
      "- **Iterating and Refining**: After you receive an output, analyze its quality. If it doesn't meet your needs, refine your prompt and try again.\n",
      "\n",
      "### 3. Tips for Crafting Effective Prompts\n",
      "\n",
      "- **Be Clear and Specific**: Instead of vague requests like “Tell me about data science,” try “Explain the difference between supervised and unsupervised learning in data science.”\n",
      "- **Provide Context**: Add context to help the model understand what you’re asking. For example, “As a beginner in data science, what programming languages should I learn?”\n",
      "- **Experiment and Iterate**: Don’t hesitate to make adjustments. Experimenting with wording, structure, and context can lead to better results. \n",
      "\n",
      "### 4. Real-World Applications\n",
      "\n",
      "Prompt engineering is valuable across various applications in data science:\n",
      "\n",
      "- **Data Analysis**: Generate summaries or insights from datasets by prompting AI models with specific questions about the data.\n",
      "- **Natural Language Processing**: Utilize prompts to improve tasks like sentiment analysis, context generation, or translation.\n",
      "- **Creative Content Generation**: Create reports, code snippets, or even marketing content by providing targeted prompts to a generative model.\n",
      "\n",
      "### 5. Conclusion\n",
      "\n",
      "As you embark on your data science career, mastering prompt engineering will be a vital asset in your toolkit. It empowers you to effectively interact with generative AI models, enabling you to extract valuable insights and creativity from them. By practicing the skills discussed in this blog, you'll be well on your way to becoming proficient in prompt engineering, paving the way for innovative applications in your future projects. Happy prompting!\n"
     ]
    }
   ],
   "source": [
    "print(get_response(prompt))"
   ]
  },
  {
   "cell_type": "code",
   "execution_count": 27,
   "id": "9a2d5ca0-45b3-4aa5-b4e7-bef484b96c61",
   "metadata": {},
   "outputs": [
    {
     "name": "stdout",
     "output_type": "stream",
     "text": [
      "Certainly! Here are 10 frequently asked questions (FAQs) regarding GenAI Prompt Engineering, along with their answers:\n",
      "\n",
      "### FAQs on GenAI Prompt Engineering\n",
      "\n",
      "1. **What is GenAI Prompt Engineering?**\n",
      "   - **Answer**: GenAI Prompt Engineering involves crafting effective prompts or instructions to maximize the performance and utility of generative artificial intelligence models. It focuses on how to phrase queries to obtain desired outputs, enhancing the interaction between users and AI.\n",
      "\n",
      "2. **Why is prompt engineering important?**\n",
      "   - **Answer**: Effective prompt engineering is crucial because the way a question or command is posed can significantly influence the quality and relevance of the AI-generated responses. Well-structured prompts lead to more accurate, coherent, and contextually appropriate outputs.\n",
      "\n",
      "3. **What are some best practices for creating prompts?**\n",
      "   - **Answer**: Best practices include being clear and concise, providing context, asking specific questions, using examples to clarify expectations, and iterating on prompts based on the responses received to continually improve output quality.\n",
      "\n",
      "4. **Can prompt engineering be used for any AI model?**\n",
      "   - **Answer**: While the principles of prompt engineering can be applied to many generative AI models, its effectiveness may vary based on the architecture, training data, and intended use of specific models. It’s especially relevant for natural language processing models like GPT-3 or similar.\n",
      "\n",
      "5. **How can I test the effectiveness of my prompts?**\n",
      "   - **Answer**: You can test prompts by comparing the responses generated for different phrasings and structures. Iteratively refine your prompts based on AI performance and user satisfaction metrics. Keep track of which formats yield the most relevant or accurate answers.\n",
      "\n",
      "6. **Are there tools available to assist with prompt engineering?**\n",
      "   - **Answer**: Yes, there are several tools and libraries designed to assist with prompt engineering. Examples include platforms that allow users to interact with generative models, like OpenAI’s API, and various integrated development environments (IDEs) that provide templates and suggestions.\n",
      "\n",
      "7. **What common mistakes should I avoid when engineering prompts?**\n",
      "   - **Answer**: Common mistakes include being vague or ambiguous, overwhelming the model with too much information, using overly complex language, and failing to define the desired output format. Avoiding these pitfalls can lead to better quality results.\n",
      "\n",
      "8. **How can I refine my prompts after getting a response?**\n",
      "   - **Answer**: After receiving a response, analyze what aspects were satisfactory and what could be improved. Adjust your prompts by clarifying unclear instructions, adding context, or specifying formats, and experiment with variations to achieve better outputs.\n",
      "\n",
      "9. **What role does context play in prompt engineering?**\n",
      "   - **Answer**: Context is vital in prompt engineering, as it helps the model understand the background and specifics of the task. Providing relevant context can guide the AI in generating informative and appropriate responses aligned with user intentions.\n",
      "\n",
      "10. **Is prompt engineering a skill anyone can learn?**\n",
      "    - **Answer**: Yes, prompt engineering is a skill that can be learned and developed with practice. Anyone interested in working with generative AI can improve their prompting abilities by studying examples, engaging with the community, and experimenting with various approaches. \n",
      "\n",
      "These FAQs cover fundamental concepts and practical advice related to GenAI Prompt Engineering, providing a helpful foundation for those interested in this area.\n"
     ]
    }
   ],
   "source": [
    "prompt = '''Include 10 FAQs for the GenAI Prompt Engineering post along with the answers'''\n",
    "print(get_response(prompt))"
   ]
  },
  {
   "cell_type": "code",
   "execution_count": null,
   "id": "20c5e9b1-cb76-44b2-a005-a198098d30d0",
   "metadata": {},
   "outputs": [],
   "source": []
  },
  {
   "cell_type": "code",
   "execution_count": null,
   "id": "ee54726f-c72b-446a-8f7d-042eebd627d2",
   "metadata": {},
   "outputs": [],
   "source": []
  },
  {
   "cell_type": "code",
   "execution_count": null,
   "id": "d6e3d2a9-7e4a-4585-9f7b-b1928c9263d1",
   "metadata": {},
   "outputs": [],
   "source": []
  }
 ],
 "metadata": {
  "kernelspec": {
   "display_name": "Python 3 (ipykernel)",
   "language": "python",
   "name": "python3"
  },
  "language_info": {
   "codemirror_mode": {
    "name": "ipython",
    "version": 3
   },
   "file_extension": ".py",
   "mimetype": "text/x-python",
   "name": "python",
   "nbconvert_exporter": "python",
   "pygments_lexer": "ipython3",
   "version": "3.12.7"
  }
 },
 "nbformat": 4,
 "nbformat_minor": 5
}
